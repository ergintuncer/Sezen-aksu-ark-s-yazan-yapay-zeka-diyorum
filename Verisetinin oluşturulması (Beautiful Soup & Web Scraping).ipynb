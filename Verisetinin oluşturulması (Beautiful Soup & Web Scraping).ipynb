{
  "nbformat": 4,
  "nbformat_minor": 0,
  "metadata": {
    "colab": {
      "name": "Untitled0.ipynb",
      "version": "0.3.2",
      "provenance": [],
      "collapsed_sections": [],
      "include_colab_link": true
    },
    "kernelspec": {
      "name": "python3",
      "display_name": "Python 3"
    },
    "accelerator": "TPU"
  },
  "cells": [
    {
      "cell_type": "markdown",
      "metadata": {
        "id": "view-in-github",
        "colab_type": "text"
      },
      "source": [
        "[View in Colaboratory](https://colab.research.google.com/github/ergintuncer/Sezen-aksu-ark-s-yazan-yapay-zeka-diyorum/blob/master/Verisetinin%20olu%C5%9Fturulmas%C4%B1%20(Beautiful%20Soup%20&%20Web%20Scraping).ipynb)"
      ]
    },
    {
      "metadata": {
        "id": "5QqKXNcigelL",
        "colab_type": "text"
      },
      "cell_type": "markdown",
      "source": [
        "![Sezen aksu şarkıları](https://image.ibb.co/d4BoQf/anasayfa.png)"
      ]
    },
    {
      "metadata": {
        "id": "KUPNsO7hY_OE",
        "colab_type": "text"
      },
      "cell_type": "markdown",
      "source": [
        "### Gerekli kütüphanelerin import edilmesi"
      ]
    },
    {
      "metadata": {
        "id": "8z1rkhipXtsm",
        "colab_type": "code",
        "colab": {}
      },
      "cell_type": "code",
      "source": [
        "import requests\n",
        "import csv\n",
        "from bs4 import BeautifulSoup, NavigableString, Tag\n",
        "from google.colab import files\n",
        "import pandas as pd"
      ],
      "execution_count": 0,
      "outputs": []
    },
    {
      "metadata": {
        "id": "Nvxe3PLZaA9E",
        "colab_type": "text"
      },
      "cell_type": "markdown",
      "source": [
        "### Tüm şarkıların adlarının ve adreslerinin seçilmesi"
      ]
    },
    {
      "metadata": {
        "id": "oZkOc8dqYMBe",
        "colab_type": "code",
        "colab": {}
      },
      "cell_type": "code",
      "source": [
        "# Sanatşı sayfasındaki verilerin alınması\n",
        "sayfa = requests.get('https://www.sarkisozleri.bbs.tr/sanatci/181/sezen-aksu')\n",
        "soup = BeautifulSoup(sayfa.text, 'html.parser')\n",
        "\n",
        "# şarkıların bulunduğu div'in seçilmesi\n",
        "sarkilar = soup.find(class_='col-sm-8 col-md-6 col-lg-8')\n",
        "\n",
        "# div etiketinin içindeki <a> taglarının seçilmesi\n",
        "sarki_adlari = sarkilar.find_all('a')\n",
        "print(sarki_adlari)"
      ],
      "execution_count": 0,
      "outputs": []
    },
    {
      "metadata": {
        "id": "W3XtT0PghoSp",
        "colab_type": "text"
      },
      "cell_type": "markdown",
      "source": [
        "![Anasayfa kod seçimi](https://preview.ibb.co/fuoeWL/anasayfa-kod-se-imi.png)"
      ]
    },
    {
      "metadata": {
        "id": "0h8UbJQFfz1e",
        "colab_type": "text"
      },
      "cell_type": "markdown",
      "source": [
        "### Sözlerin satır satır kaydedilmesi"
      ]
    },
    {
      "metadata": {
        "id": "Rwt5JPbQYPEV",
        "colab_type": "code",
        "colab": {}
      },
      "cell_type": "code",
      "source": [
        "# sarki sözlerinin yazılacağı dosyanın oluşturulması ve başlık satırının eklenmesi\n",
        "f = csv.writer(open('Sezen Aksu.csv', 'w', newline='', encoding='utf-8-sig'))\n",
        "f.writerow(['Sanatçı Adı','Şarkı Id','Şarkı Adı', 'Şarkı Sözü','Satır No'])\n",
        "sarki_id=1 # her bir şarkıya ait id\n",
        "\n",
        "# her bir şarkı için dön\n",
        "for sarki in sarki_adlari:\n",
        "    sarki_adi = sarki.contents[0]\n",
        "    print(sarki_adi)\n",
        "    sarki_link = \"https://www.sarkisozleri.bbs.tr\"+sarki.get('href')\n",
        "    sarki_sayfasi = requests.get(sarki_link)\n",
        "    soup = BeautifulSoup(sarki_sayfasi.text, 'html.parser') # sözlerin bulunduğu sayfayı parse et\n",
        "    \n",
        "    sarki_sozu = soup.findAll(class_='col-md-6') # sadece sözlerin bulunduğu div'i seç\n",
        "    satir_no=1\n",
        "    \n",
        "    # her bir şarkı sözü için dön\n",
        "    for sarki_satirlar in sarki_sozu:\n",
        "        for br in sarki_satirlar.findAll('br'): # sözleri satır satır kaydedeceğimiz için her bir <br> tagından böl\n",
        "            sarki_satir=br.previous_sibling # birinci satıra geri git\n",
        "            \n",
        "            # <br> taglarını sil ve sözleri satır satı kaydet\n",
        "            if not (sarki_satir and isinstance(sarki_satir,NavigableString)):\n",
        "                continue\n",
        "            sarki_satir_2 = sarki_satir.nextSibling\n",
        "            \n",
        "            if sarki_satir_2 and isinstance(sarki_satir_2,Tag) and sarki_satir_2.name == 'br':\n",
        "                soz = str(sarki_satir).strip()\n",
        "                if soz:\n",
        "                    f.writerow(['Sezen Aksu',sarki_id,str(sarki_adi).strip(), soz,satir_no]) \n",
        "                    satir_no=satir_no+1\n",
        "    sarki_id=sarki_id+1;"
      ],
      "execution_count": 0,
      "outputs": []
    },
    {
      "metadata": {
        "id": "DYtvBAskh0oq",
        "colab_type": "text"
      },
      "cell_type": "markdown",
      "source": [
        "![Sarki sözlerinin seçilmesi](https://preview.ibb.co/fKFRBL/sarki-s-zleri-kod.png)"
      ]
    },
    {
      "metadata": {
        "id": "UkD0PmS_gqHL",
        "colab_type": "text"
      },
      "cell_type": "markdown",
      "source": [
        "\n",
        "\n",
        "---\n",
        "\n",
        "Verisetinin önizlemesi"
      ]
    },
    {
      "metadata": {
        "id": "uQSDN7cFggO9",
        "colab_type": "code",
        "outputId": "5e00b749-b9e9-473e-9651-26a5177163eb",
        "colab": {
          "base_uri": "https://localhost:8080/",
          "height": 201
        }
      },
      "cell_type": "code",
      "source": [
        "dataset = pd.read_csv('Sezen Aksu.csv', encoding = \"utf_8\")\n",
        "dataset.head()"
      ],
      "execution_count": 0,
      "outputs": [
        {
          "output_type": "execute_result",
          "data": {
            "text/html": [
              "<div>\n",
              "<style scoped>\n",
              "    .dataframe tbody tr th:only-of-type {\n",
              "        vertical-align: middle;\n",
              "    }\n",
              "\n",
              "    .dataframe tbody tr th {\n",
              "        vertical-align: top;\n",
              "    }\n",
              "\n",
              "    .dataframe thead th {\n",
              "        text-align: right;\n",
              "    }\n",
              "</style>\n",
              "<table border=\"1\" class=\"dataframe\">\n",
              "  <thead>\n",
              "    <tr style=\"text-align: right;\">\n",
              "      <th></th>\n",
              "      <th>Sanatçı Adı</th>\n",
              "      <th>Şarkı Id</th>\n",
              "      <th>Şarkı Adı</th>\n",
              "      <th>Şarkı Sözü</th>\n",
              "      <th>Satır No</th>\n",
              "    </tr>\n",
              "  </thead>\n",
              "  <tbody>\n",
              "    <tr>\n",
              "      <th>0</th>\n",
              "      <td>Sezen Aksu</td>\n",
              "      <td>1</td>\n",
              "      <td>1945</td>\n",
              "      <td>Bin Dokuzyüz Kırkbeş</td>\n",
              "      <td>1</td>\n",
              "    </tr>\n",
              "    <tr>\n",
              "      <th>1</th>\n",
              "      <td>Sezen Aksu</td>\n",
              "      <td>1</td>\n",
              "      <td>1945</td>\n",
              "      <td>Gel asırlardan uzanda tut ellerimi sımsıcak</td>\n",
              "      <td>2</td>\n",
              "    </tr>\n",
              "    <tr>\n",
              "      <th>2</th>\n",
              "      <td>Sezen Aksu</td>\n",
              "      <td>1</td>\n",
              "      <td>1945</td>\n",
              "      <td>Yoksa bendeki çocukda böyle çaresiz kalacak</td>\n",
              "      <td>3</td>\n",
              "    </tr>\n",
              "    <tr>\n",
              "      <th>3</th>\n",
              "      <td>Sezen Aksu</td>\n",
              "      <td>1</td>\n",
              "      <td>1945</td>\n",
              "      <td>Öfke ile beslenen çocuklar yalnızdırlar</td>\n",
              "      <td>4</td>\n",
              "    </tr>\n",
              "    <tr>\n",
              "      <th>4</th>\n",
              "      <td>Sezen Aksu</td>\n",
              "      <td>1</td>\n",
              "      <td>1945</td>\n",
              "      <td>Ve ümitleri çiçeklerden acıları tarihlerden</td>\n",
              "      <td>5</td>\n",
              "    </tr>\n",
              "  </tbody>\n",
              "</table>\n",
              "</div>"
            ],
            "text/plain": [
              "  Sanatçı Adı  Şarkı Id Şarkı Adı  \\\n",
              "0  Sezen Aksu         1      1945   \n",
              "1  Sezen Aksu         1      1945   \n",
              "2  Sezen Aksu         1      1945   \n",
              "3  Sezen Aksu         1      1945   \n",
              "4  Sezen Aksu         1      1945   \n",
              "\n",
              "                                    Şarkı Sözü  Satır No  \n",
              "0                         Bin Dokuzyüz Kırkbeş         1  \n",
              "1  Gel asırlardan uzanda tut ellerimi sımsıcak         2  \n",
              "2  Yoksa bendeki çocukda böyle çaresiz kalacak         3  \n",
              "3      Öfke ile beslenen çocuklar yalnızdırlar         4  \n",
              "4  Ve ümitleri çiçeklerden acıları tarihlerden         5  "
            ]
          },
          "metadata": {
            "tags": []
          },
          "execution_count": 15
        }
      ]
    },
    {
      "metadata": {
        "id": "LcKor_7qf51P",
        "colab_type": "text"
      },
      "cell_type": "markdown",
      "source": [
        "\n",
        "### Dosyanın bilgisayara indirilmesi"
      ]
    },
    {
      "metadata": {
        "id": "LEw_PcdoY3Gi",
        "colab_type": "code",
        "colab": {}
      },
      "cell_type": "code",
      "source": [
        "files.download('Sezen Aksu.csv')"
      ],
      "execution_count": 0,
      "outputs": []
    }
  ]
}